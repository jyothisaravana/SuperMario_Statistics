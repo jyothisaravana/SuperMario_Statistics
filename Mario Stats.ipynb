{
 "cells": [
  {
   "cell_type": "code",
   "execution_count": 2,
   "id": "dd38205a",
   "metadata": {},
   "outputs": [
    {
     "name": "stdout",
     "output_type": "stream",
     "text": [
      "   team_id  phase    group  round  totalingred\n",
      "0    21301      1  newhire      1           19\n",
      "1    21301      1  newhire      2           23\n",
      "2    21301      1  newhire      3           23\n",
      "3    21301      1  newhire      4           25\n",
      "4    21301      1  newhire      5           24\n"
     ]
    }
   ],
   "source": [
    "import pandas as pd\n",
    "from scipy import stats\n",
    "import seaborn as sns\n",
    "import matplotlib.pyplot as plt\n",
    "\n",
    "# Read the data from CSV into a DataFrame\n",
    "df = pd.read_csv('mario.csv')\n",
    "\n",
    "# Display a preview of the data\n",
    "print(df.head())"
   ]
  },
  {
   "cell_type": "code",
   "execution_count": 2,
   "id": "0243c592",
   "metadata": {},
   "outputs": [
    {
     "name": "stdout",
     "output_type": "stream",
     "text": [
      "<class 'pandas.core.frame.DataFrame'>\n",
      "RangeIndex: 660 entries, 0 to 659\n",
      "Data columns (total 5 columns):\n",
      " #   Column       Non-Null Count  Dtype \n",
      "---  ------       --------------  ----- \n",
      " 0   team_id      660 non-null    int64 \n",
      " 1   phase        660 non-null    int64 \n",
      " 2   group        660 non-null    object\n",
      " 3   round        660 non-null    int64 \n",
      " 4   totalingred  660 non-null    int64 \n",
      "dtypes: int64(4), object(1)\n",
      "memory usage: 25.9+ KB\n"
     ]
    }
   ],
   "source": [
    "df.info()"
   ]
  },
  {
   "cell_type": "code",
   "execution_count": 5,
   "id": "513c439f",
   "metadata": {
    "scrolled": true
   },
   "outputs": [
    {
     "name": "stdout",
     "output_type": "stream",
     "text": [
      "Unique phases: [1 2]\n",
      "Unique groups: ['newhire' 'ai' 'control']\n",
      "Unique team_id: [ 21301  21312  21410  21411  21412  22010  22011  22012  22412  22512\n",
      "  22712  22811  30503  30505  31103 101602 101603 102401 102410 102411\n",
      " 102412 102901 102910 103110 103111 103112 110510 110511 110801 110811\n",
      " 110812 111401 111501 111512 111901 111911 111912 112102 112103 112104\n",
      " 112105 112203 112205 112501 112503 112504 112505 112510 112511 112601\n",
      " 112602 112610 112611 112612 120901]\n",
      "Unique round: [ 1  2  3  4  5  6  7  8  9 10 11 12]\n"
     ]
    }
   ],
   "source": [
    "# Unique values in the 'Phase' column\n",
    "unique_phases = df['phase'].unique()\n",
    "print(\"Unique phases:\", unique_phases)\n",
    "\n",
    "# Unique values in the 'Group' column\n",
    "unique_groups = df['group'].unique()\n",
    "print(\"Unique groups:\", unique_groups)\n",
    "\n",
    "unique_groups = df['team_id'].unique()\n",
    "print(\"Unique team_id:\", unique_groups)\n",
    "\n",
    "unique_groups = df['round'].unique()\n",
    "print(\"Unique round:\", unique_groups)\n"
   ]
  },
  {
   "cell_type": "code",
   "execution_count": 25,
   "id": "ff2f2b18",
   "metadata": {},
   "outputs": [
    {
     "name": "stdout",
     "output_type": "stream",
     "text": [
      "Unique count for each group:\n",
      "ai         240\n",
      "control    240\n",
      "newhire    180\n",
      "Name: group, dtype: int64\n"
     ]
    }
   ],
   "source": [
    "# Unique count for each group\n",
    "unique_counts = df['group'].value_counts()\n",
    "\n",
    "# Display the unique count for each group\n",
    "print(\"Unique count for each group:\")\n",
    "print(unique_counts)"
   ]
  },
  {
   "cell_type": "code",
   "execution_count": 12,
   "id": "cca02933",
   "metadata": {},
   "outputs": [
    {
     "name": "stdout",
     "output_type": "stream",
     "text": [
      "Comparison of 'ai' group values for each team_id between Phase 1 and Phase 2:\n",
      "         totalingred_phase1  totalingred_phase2\n",
      "team_id                                        \n",
      "101602            21.166667           28.333333\n",
      "101603            27.666667           28.500000\n",
      "102401            23.500000           27.000000\n",
      "102410            28.166667           30.333333\n",
      "102411            24.166667           26.333333\n",
      "102412            25.000000           27.333333\n",
      "110510            19.333333           24.166667\n",
      "110511            20.500000           24.000000\n",
      "110811            21.166667           23.833333\n",
      "110812            22.333333           26.166667\n",
      "112203            26.000000           27.000000\n",
      "112205            23.000000           27.333333\n",
      "112501            22.666667           25.166667\n",
      "112503            24.333333           27.000000\n",
      "112504            27.833333           30.833333\n",
      "112505            18.000000           21.000000\n",
      "112510            21.500000           24.000000\n",
      "112511            24.833333           27.000000\n",
      "112610            17.500000           23.000000\n",
      "112611            23.833333           26.333333\n"
     ]
    }
   ],
   "source": [
    "# Filter for 'ai' group in Phase 1 and Phase 2 data separately\n",
    "ai_phase1_data = df[(df['phase'] == 1) & (df['group'] == 'ai')]\n",
    "ai_phase2_data = df[(df['phase'] == 2) & (df['group'] == 'ai')]\n",
    "\n",
    "# Pivot the 'ai' group data for comparison between Phase 1 and Phase 2\n",
    "ai_comparison_table = pd.merge(\n",
    "    ai_phase1_data.pivot_table(index='team_id', values='totalingred', aggfunc='mean'),\n",
    "    ai_phase2_data.pivot_table(index='team_id', values='totalingred', aggfunc='mean'),\n",
    "    on='team_id', suffixes=('_phase1', '_phase2')\n",
    ")\n",
    "\n",
    "print(\"Comparison of 'ai' group values for each team_id between Phase 1 and Phase 2:\")\n",
    "print(ai_comparison_table)"
   ]
  },
  {
   "cell_type": "code",
   "execution_count": 27,
   "id": "6803f6a3",
   "metadata": {},
   "outputs": [
    {
     "name": "stdout",
     "output_type": "stream",
     "text": [
      "Basic statistics for 'ai' in Phase 1:\n",
      "count    120.000000\n",
      "mean      23.125000\n",
      "std        4.560633\n",
      "min        9.000000\n",
      "25%       21.000000\n",
      "50%       23.000000\n",
      "75%       26.000000\n",
      "max       33.000000\n",
      "Name: totalingred, dtype: float64\n",
      "\n",
      "Basic statistics for 'ai' in Phase 2:\n",
      "count    120.000000\n",
      "mean      26.233333\n",
      "std        3.379954\n",
      "min       17.000000\n",
      "25%       24.000000\n",
      "50%       26.500000\n",
      "75%       29.000000\n",
      "max       36.000000\n",
      "Name: totalingred, dtype: float64\n"
     ]
    }
   ],
   "source": [
    "# Filter for 'ai' group in Phase 1 and Phase 2 data separately\n",
    "ai_phase1_data = df[(df['phase'] == 1) & (df['group'] == 'ai')]\n",
    "ai_phase2_data = df[(df['phase'] == 2) & (df['group'] == 'ai')]\n",
    "\n",
    "# Compute basic statistics for 'totalingred' in 'ai' Phase 1\n",
    "ai_phase1_stats = ai_phase1_data['totalingred'].describe()\n",
    "\n",
    "# Compute basic statistics for 'totalingred' in 'ai' Phase 2\n",
    "ai_phase2_stats = ai_phase2_data['totalingred'].describe()\n",
    "\n",
    "# Display basic statistics for 'ai' in Phase 1 and Phase 2\n",
    "print(\"Basic statistics for 'ai' in Phase 1:\")\n",
    "print(ai_phase1_stats)\n",
    "print(\"\\nBasic statistics for 'ai' in Phase 2:\")\n",
    "print(ai_phase2_stats)"
   ]
  },
  {
   "cell_type": "code",
   "execution_count": 13,
   "id": "f7a78c48",
   "metadata": {
    "scrolled": true
   },
   "outputs": [
    {
     "name": "stdout",
     "output_type": "stream",
     "text": [
      "Comparison of 'newhire' group values for each team_id between Phase 1 and Phase 2:\n",
      "         totalingred_phase1  totalingred_phase2\n",
      "team_id                                        \n",
      "21301             23.500000           29.000000\n",
      "21312             23.500000           30.666667\n",
      "21410             26.833333           25.166667\n",
      "21411             20.000000           24.333333\n",
      "21412             24.000000           30.000000\n",
      "22010             21.000000           23.833333\n",
      "22011             18.166667           22.333333\n",
      "22012             24.500000           27.666667\n",
      "22412             23.500000           29.166667\n",
      "22512             18.833333           25.166667\n",
      "22712             24.166667           28.500000\n",
      "22811             26.000000           30.000000\n",
      "30503             25.333333           31.166667\n",
      "30505             25.833333           24.666667\n",
      "31103             26.500000           25.333333\n"
     ]
    }
   ],
   "source": [
    "# Filter for 'newhire' group in Phase 1 and Phase 2 data separately\n",
    "newhire_phase1_data = df[(df['phase'] == 1) & (df['group'] == 'newhire')]\n",
    "newhire_phase2_data = df[(df['phase'] == 2) & (df['group'] == 'newhire')]\n",
    "\n",
    "# Pivot the 'newhire' group data for comparison between Phase 1 and Phase 2\n",
    "newhire_comparison_table = pd.merge(\n",
    "    newhire_phase1_data.pivot_table(index='team_id', values='totalingred', aggfunc='mean'),\n",
    "    newhire_phase2_data.pivot_table(index='team_id', values='totalingred', aggfunc='mean'),\n",
    "    on='team_id', suffixes=('_phase1', '_phase2')\n",
    ")\n",
    "\n",
    "print(\"Comparison of 'newhire' group values for each team_id between Phase 1 and Phase 2:\")\n",
    "print(newhire_comparison_table)"
   ]
  },
  {
   "cell_type": "code",
   "execution_count": 21,
   "id": "397571b2",
   "metadata": {},
   "outputs": [
    {
     "name": "stdout",
     "output_type": "stream",
     "text": [
      "Basic statistics for 'newhire' group in Phase 1:\n",
      "count    90.000000\n",
      "mean     23.444444\n",
      "std       4.419342\n",
      "min      13.000000\n",
      "25%      21.250000\n",
      "50%      24.000000\n",
      "75%      27.000000\n",
      "max      33.000000\n",
      "Name: totalingred, dtype: float64\n",
      "\n",
      "Basic statistics for 'newhire' group in Phase 2:\n",
      "count    90.000000\n",
      "mean     27.133333\n",
      "std       3.892372\n",
      "min      18.000000\n",
      "25%      25.000000\n",
      "50%      27.000000\n",
      "75%      30.000000\n",
      "max      36.000000\n",
      "Name: totalingred, dtype: float64\n"
     ]
    }
   ],
   "source": [
    "# Compute basic statistics for 'newhire' in Phase 1 and Phase 2 for the 'control' group\n",
    "newhire_phase1_stats = newhire_phase1_data['totalingred'].describe()\n",
    "newhire_phase2_stats = newhire_phase2_data['totalingred'].describe()\n",
    "\n",
    "print(\"Basic statistics for 'newhire' group in Phase 1:\")\n",
    "print(newhire_phase1_stats)\n",
    "print(\"\\nBasic statistics for 'newhire' group in Phase 2:\")\n",
    "print(newhire_phase2_stats)"
   ]
  },
  {
   "cell_type": "code",
   "execution_count": 14,
   "id": "d3b57230",
   "metadata": {
    "scrolled": true
   },
   "outputs": [
    {
     "name": "stdout",
     "output_type": "stream",
     "text": [
      "Comparison of 'control' group values for each team_id between Phase 1 and Phase 2:\n",
      "         totalingred_phase1  totalingred_phase2\n",
      "team_id                                        \n",
      "102901            26.833333           33.166667\n",
      "102910            21.333333           26.000000\n",
      "103110            24.500000           28.166667\n",
      "103111            19.500000           24.833333\n",
      "103112            24.333333           28.666667\n",
      "110801            24.333333           25.666667\n",
      "111401            21.333333           25.166667\n",
      "111501            21.500000           26.500000\n",
      "111512            22.833333           27.666667\n",
      "111901            18.333333           22.166667\n",
      "111911            22.000000           26.500000\n",
      "111912            23.500000           28.166667\n",
      "112102            23.666667           27.833333\n",
      "112103            21.666667           26.833333\n",
      "112104            18.833333           24.500000\n",
      "112105            24.500000           27.333333\n",
      "112601            18.333333           22.666667\n",
      "112602            23.666667           25.833333\n",
      "112612            24.833333           28.000000\n",
      "120901            23.000000           29.333333\n"
     ]
    }
   ],
   "source": [
    "# Filter for 'control' group in Phase 1 and Phase 2 data separately\n",
    "control_phase1_data = df[(df['phase'] == 1) & (df['group'] == 'control')]\n",
    "control_phase2_data = df[(df['phase'] == 2) & (df['group'] == 'control')]\n",
    "\n",
    "# Pivot the 'control' group data for comparison between Phase 1 and Phase 2\n",
    "control_comparison_table = pd.merge(\n",
    "    control_phase1_data.pivot_table(index='team_id', values='totalingred', aggfunc='mean'),\n",
    "    control_phase2_data.pivot_table(index='team_id', values='totalingred', aggfunc='mean'),\n",
    "    on='team_id', suffixes=('_phase1', '_phase2')\n",
    ")\n",
    "\n",
    "print(\"Comparison of 'control' group values for each team_id between Phase 1 and Phase 2:\")\n",
    "print(control_comparison_table)"
   ]
  },
  {
   "cell_type": "code",
   "execution_count": 15,
   "id": "4819ea0b",
   "metadata": {
    "scrolled": true
   },
   "outputs": [
    {
     "name": "stdout",
     "output_type": "stream",
     "text": [
      "Basic statistics for 'control' group in Phase 1:\n",
      "count    120.000000\n",
      "mean      22.441667\n",
      "std        4.250152\n",
      "min       11.000000\n",
      "25%       20.000000\n",
      "50%       23.000000\n",
      "75%       25.000000\n",
      "max       31.000000\n",
      "Name: totalingred, dtype: float64\n",
      "\n",
      "Basic statistics for 'control' group in Phase 2:\n",
      "count    120.000000\n",
      "mean      26.750000\n",
      "std        3.262339\n",
      "min       18.000000\n",
      "25%       25.000000\n",
      "50%       27.000000\n",
      "75%       28.250000\n",
      "max       34.000000\n",
      "Name: totalingred, dtype: float64\n"
     ]
    }
   ],
   "source": [
    "# Compute basic statistics for 'totalingred' in Phase 1 and Phase 2 for the 'control' group\n",
    "control_phase1_stats = control_phase1_data['totalingred'].describe()\n",
    "control_phase2_stats = control_phase2_data['totalingred'].describe()\n",
    "\n",
    "print(\"Basic statistics for 'control' group in Phase 1:\")\n",
    "print(control_phase1_stats)\n",
    "print(\"\\nBasic statistics for 'control' group in Phase 2:\")\n",
    "print(control_phase2_stats)"
   ]
  },
  {
   "cell_type": "code",
   "execution_count": 28,
   "id": "52a77c71",
   "metadata": {},
   "outputs": [
    {
     "data": {
      "image/png": "[encoded data removed]",
      "text/plain": [
       "<Figure size 720x432 with 1 Axes>"
      ]
     },
     "metadata": {
      "needs_background": "light"
     },
     "output_type": "display_data"
    }
   ],
   "source": [
    "import matplotlib.pyplot as plt\n",
    "\n",
    "# Mean 'totalingred' values for each group and phase just for reference\n",
    "means = {\n",
    "    'AI Phase 1': 23.125, 'AI Phase 2': 26.33,\n",
    "    'NewHire Phase 1': 23.44, 'NewHire Phase 2': 27.13,\n",
    "    'Control Phase 1': 22.44, 'Control Phase 2': 26.75\n",
    "}\n",
    "\n",
    "# Extracting data for x-axis labels and y-axis values\n",
    "labels = list(means.keys())\n",
    "values = list(means.values())\n",
    "\n",
    "# Creating the bar plot\n",
    "plt.figure(figsize=(10, 6))\n",
    "plt.bar(labels, values, color=['blue', 'red', 'green', 'orange', 'purple', 'pink'])\n",
    "plt.xlabel('Groups and Phases')\n",
    "plt.ylabel('Mean totalingred')\n",
    "plt.title('Mean totalingred Values for Different Groups and Phases')\n",
    "plt.xticks(rotation=45, ha='right')\n",
    "plt.tight_layout()\n",
    "plt.show()\n"
   ]
  },
  {
   "cell_type": "code",
   "execution_count": 3,
   "id": "0f4806a9",
   "metadata": {},
   "outputs": [
    {
     "data": {
      "image/png": "[encoded data removed]",
      "text/plain": [
       "<Figure size 576x432 with 1 Axes>"
      ]
     },
     "metadata": {
      "needs_background": "light"
     },
     "output_type": "display_data"
    },
    {
     "data": {
      "image/png": "[encoded data removed]",
      "text/plain": [
       "<Figure size 576x432 with 1 Axes>"
      ]
     },
     "metadata": {
      "needs_background": "light"
     },
     "output_type": "display_data"
    }
   ],
   "source": [
    "# Box plot\n",
    "plt.figure(figsize=(8, 6))\n",
    "sns.boxplot(x='group', y='totalingred', hue='phase', data=df)\n",
    "plt.title('Total Ingredients Collected by Group and Phase')\n",
    "plt.xlabel('Group')\n",
    "plt.ylabel('Total Ingredients')\n",
    "plt.show()\n",
    "\n",
    "# Histogram\n",
    "plt.figure(figsize=(8, 6))\n",
    "sns.histplot(data=df, x='totalingred', hue='group', multiple='dodge', bins=15)\n",
    "plt.title('Distribution of Total Ingredients Collected by Group')\n",
    "plt.xlabel('Total Ingredients')\n",
    "plt.ylabel('Frequency')\n",
    "plt.show()"
   ]
  },
  {
   "cell_type": "code",
   "execution_count": 10,
   "id": "ac395156",
   "metadata": {},
   "outputs": [
    {
     "name": "stdout",
     "output_type": "stream",
     "text": [
      "     Group  Percentage Change\n",
      "0       AI          13.402508\n",
      "1  NewHire          15.742321\n",
      "2  Control          19.206774\n"
     ]
    }
   ],
   "source": [
    "# Mean 'totalingred' values for each group and phase\n",
    "means = {\n",
    "    'AI Phase 1': 23.13, 'AI Phase 2': 26.23,\n",
    "    'NewHire Phase 1': 23.44, 'NewHire Phase 2': 27.13,\n",
    "    'Control Phase 1': 22.44, 'Control Phase 2': 26.75\n",
    "}\n",
    "\n",
    "# Calculate percentage change in mean 'totalingred' between Phase 1 and Phase 2 for each group\n",
    "ai_change = ((means['AI Phase 2'] - means['AI Phase 1']) / means['AI Phase 1']) * 100\n",
    "newhire_change = ((means['NewHire Phase 2'] - means['NewHire Phase 1']) / means['NewHire Phase 1']) * 100\n",
    "control_change = ((means['Control Phase 2'] - means['Control Phase 1']) / means['Control Phase 1']) * 100\n",
    "\n",
    "# Create a table to display percentage changes\n",
    "import pandas as pd\n",
    "\n",
    "data = {\n",
    "    'Group': ['AI', 'NewHire', 'Control'],\n",
    "    'Percentage Change': [ai_change, newhire_change, control_change]\n",
    "}\n",
    "\n",
    "df_percentage_change = pd.DataFrame(data)\n",
    "print(df_percentage_change)\n",
    "df_percentage_change.to_excel('percentage_change.xlsx')\n"
   ]
  },
  {
   "cell_type": "code",
   "execution_count": 9,
   "id": "d6b1123b",
   "metadata": {},
   "outputs": [],
   "source": [
    "# Data for percentage change in mean, std, and percentiles\n",
    "import html\n",
    "\n",
    "\n",
    "data = {\n",
    "    'Group': ['AI', 'NewHire', 'Control'],\n",
    "    'Mean Change (%)': [((26.233333 - 23.125) / 23.125) * 100, ((27.133333 - 23.444444) / 23.444444) * 100, ((26.75 - 22.441667) / 22.441667) * 100],\n",
    "    'Std Change (%)': [((3.379954 - 4.560633) / 4.560633) * 100, ((3.892372 - 4.419342) / 4.419342) * 100, ((3.262339 - 4.250152) / 4.250152) * 100],\n",
    "    '25% Change (%)': [((24 - 21) / 21) * 100, ((25 - 21.25) / 21.25) * 100, ((25 - 20) / 20) * 100],\n",
    "    '50% Change (%)': [((26.5 - 23) / 23) * 100, ((27 - 24) / 24) * 100, ((27 - 23) / 23) * 100],\n",
    "    '75% Change (%)': [((29 - 26) / 26) * 100, ((30 - 27) / 27) * 100, ((28.25 - 25) / 25) * 100]\n",
    "}\n",
    "\n",
    "# Create a DataFrame\n",
    "df_percentage_change = pd.DataFrame(data)\n",
    "\n",
    "# Display the DataFrame\n",
    "df_percentage_change.style\n",
    "df_percentage_change.to_excel(\"desct.xlsx\")\n"
   ]
  },
  {
   "cell_type": "code",
   "execution_count": 33,
   "id": "44c06c22",
   "metadata": {},
   "outputs": [
    {
     "name": "stdout",
     "output_type": "stream",
     "text": [
      "F-statistic: 0.040636617211534325\n",
      "P-value: 0.9606972884498188\n",
      "ANOVA result: No significant difference found between groups in Phase 2\n"
     ]
    }
   ],
   "source": [
    "from scipy import stats\n",
    "\n",
    "# Data \n",
    "ai_phase1 = [23.13, 26.23]  # Mean 'totalingred' for 'ai' in Phase 1 and Phase 2\n",
    "newhire_phase1 = [23.44, 27.13]  # Mean 'totalingred' for 'newhire' in Phase 1 and Phase 2\n",
    "control_phase1 = [22.44, 26.75]  # Mean 'totalingred' for 'control' in Phase 1 and Phase 2\n",
    "\n",
    "# Perform one-way ANOVA\n",
    "f_statistic, p_value = stats.f_oneway(ai_phase1, newhire_phase1, control_phase1)\n",
    "\n",
    "# Display the F-statistic and p-value\n",
    "print(f\"F-statistic: {f_statistic}\")\n",
    "print(f\"P-value: {p_value}\")\n",
    "\n",
    "# Check if ANOVA is significant\n",
    "if p_value < 0.05:\n",
    "    print(\"ANOVA result: There is a significant difference between groups in Phase 2\")\n",
    "\n",
    "    # Perform Tukey HSD post-hoc test\n",
    "    data = pd.DataFrame({'Totalingred': ai_phase1 + newhire_phase1 + control_phase1,\n",
    "                         'Group': ['AI'] * 2 + ['NewHire'] * 2 + ['Control'] * 2})\n",
    "    from statsmodels.stats.multicomp import pairwise_tukeyhsd\n",
    "\n",
    "    tukey = pairwise_tukeyhsd(data['Totalingred'], data['Group'])\n",
    "    print(tukey.summary())\n",
    "else:\n",
    "    print(\"ANOVA result: No significant difference found between groups in Phase 2\")\n"
   ]
  },
  {
   "cell_type": "code",
   "execution_count": 13,
   "id": "5521ad1a",
   "metadata": {},
   "outputs": [
    {
     "name": "stdout",
     "output_type": "stream",
     "text": [
      "F-statistic: 0.040636617211534325\n",
      "P-value: 0.9606972884498188\n",
      "  Multiple Comparison of Means - Tukey HSD, FWER=0.05  \n",
      "=======================================================\n",
      " group1  group2 meandiff p-adj   lower    upper  reject\n",
      "-------------------------------------------------------\n",
      "     AI Control   -0.085 0.9994 -11.1148 10.9448  False\n",
      "     AI NewHire    0.605 0.9717 -10.4248 11.6348  False\n",
      "Control NewHire     0.69 0.9635 -10.3398 11.7198  False\n",
      "-------------------------------------------------------\n"
     ]
    }
   ],
   "source": [
    "\n",
    "# Data \n",
    "ai_phase1 = [23.13, 26.23]  # Mean 'totalingred' for 'ai' in Phase 1 and Phase 2\n",
    "newhire_phase1 = [23.44, 27.13]  # Mean 'totalingred' for 'newhire' in Phase 1 and Phase 2\n",
    "control_phase1 = [22.44, 26.75]  # Mean 'totalingred' for 'control' in Phase 1 and Phase 2\n",
    "\n",
    "# Perform one-way ANOVA\n",
    "f_statistic, p_value = stats.f_oneway(ai_phase1, newhire_phase1, control_phase1)\n",
    "\n",
    "# Display the F-statistic and p-value\n",
    "print(f\"F-statistic: {f_statistic}\")\n",
    "print(f\"P-value: {p_value}\")\n",
    "\n",
    "\n",
    "# Perform Tukey HSD post-hoc test\n",
    "data = pd.DataFrame({'Totalingred': ai_phase1 + newhire_phase1 + control_phase1,\n",
    "                         'Group': ['AI'] * 2 + ['NewHire'] * 2 + ['Control'] * 2})\n",
    "from statsmodels.stats.multicomp import pairwise_tukeyhsd\n",
    "\n",
    "tukey = pairwise_tukeyhsd(data['Totalingred'], data['Group'])\n",
    "print(tukey.summary())\n",
    "\n"
   ]
  },
  {
   "cell_type": "code",
   "execution_count": 37,
   "id": "7c287e71",
   "metadata": {},
   "outputs": [
    {
     "name": "stdout",
     "output_type": "stream",
     "text": [
      "P-value for AI vs. NewHire: 0.16464167263500837\n",
      "P-value for AI vs. Control: 0.8329496416659321\n",
      "P-value for NewHire vs. Control: 0.1162315219297295\n"
     ]
    }
   ],
   "source": [
    "#T-test\n",
    "from scipy.stats import ttest_ind\n",
    "\n",
    "# Subset the data for each group\n",
    "ai_data = df[df['group'] == 'ai']['totalingred']\n",
    "newhire_data = df[df['group'] == 'newhire']['totalingred']\n",
    "control_data = df[df['group'] == 'control']['totalingred']\n",
    "\n",
    "# Perform t-tests between specific pairs of groups\n",
    "t_stat_ai_newhire, p_val_ai_newhire = ttest_ind(ai_data, newhire_data, equal_var=False)\n",
    "t_stat_ai_control, p_val_ai_control = ttest_ind(ai_data, control_data, equal_var=False)\n",
    "t_stat_newhire_control, p_val_newhire_control = ttest_ind(newhire_data, control_data, equal_var=False)\n",
    "\n",
    "# Display the p-values\n",
    "print(\"P-value for AI vs. NewHire:\", p_val_ai_newhire)\n",
    "print(\"P-value for AI vs. Control:\", p_val_ai_control)\n",
    "print(\"P-value for NewHire vs. Control:\", p_val_newhire_control)\n"
   ]
  },
  {
   "cell_type": "code",
   "execution_count": 40,
   "id": "d7970d7f",
   "metadata": {},
   "outputs": [
    {
     "name": "stdout",
     "output_type": "stream",
     "text": [
      "P-value for Equal Variances: 0.7365658360812163\n"
     ]
    }
   ],
   "source": [
    "#Testing for Equal Variances: Levene\n",
    "from scipy.stats import levene\n",
    "\n",
    "# Subset data for each group\n",
    "ai_data = df[df['group'] == 'ai']['totalingred']\n",
    "newhire_data = df[df['group'] == 'newhire']['totalingred']\n",
    "control_data = df[df['group'] == 'control']['totalingred']\n",
    "\n",
    "# Test for equal variances among the groups\n",
    "statistic, p_val_variances = levene(ai_data, newhire_data, control_data)\n",
    "\n",
    "# Display the p-value\n",
    "print(\"P-value for Equal Variances:\", p_val_variances)\n"
   ]
  },
  {
   "cell_type": "code",
   "execution_count": 41,
   "id": "bd94d789",
   "metadata": {},
   "outputs": [
    {
     "name": "stdout",
     "output_type": "stream",
     "text": [
      "Slope for AI: 24.679166666666667 P-value: 3.414610113427199e-185\n",
      "Slope for NewHire: 25.28888888888888 P-value: 8.401564028244837e-137\n",
      "Slope for Control: 24.59583333333333 P-value: 1.4952241222451737e-183\n"
     ]
    }
   ],
   "source": [
    "#Testing Linear Relationships: linear regression for each group\n",
    "\n",
    "import statsmodels.api as sm\n",
    "\n",
    "# Create dummy variables for the groups\n",
    "df['is_ai'] = (df['group'] == 'ai').astype(int)\n",
    "df['is_newhire'] = (df['group'] == 'newhire').astype(int)\n",
    "df['is_control'] = (df['group'] == 'control').astype(int)\n",
    "\n",
    "# Fit linear regression models for each group\n",
    "model_ai = sm.OLS(df[df['group'] == 'ai']['totalingred'], sm.add_constant(df[df['group'] == 'ai'][['is_ai']]))\n",
    "model_newhire = sm.OLS(df[df['group'] == 'newhire']['totalingred'], sm.add_constant(df[df['group'] == 'newhire'][['is_newhire']]))\n",
    "model_control = sm.OLS(df[df['group'] == 'control']['totalingred'], sm.add_constant(df[df['group'] == 'control'][['is_control']]))\n",
    "\n",
    "# Get summary statistics for each model\n",
    "results_ai = model_ai.fit()\n",
    "results_newhire = model_newhire.fit()\n",
    "results_control = model_control.fit()\n",
    "\n",
    "# Extract slope coefficients and p-values\n",
    "print(\"Slope for AI:\", results_ai.params['is_ai'], \"P-value:\", results_ai.pvalues['is_ai'])\n",
    "print(\"Slope for NewHire:\", results_newhire.params['is_newhire'], \"P-value:\", results_newhire.pvalues['is_newhire'])\n",
    "print(\"Slope for Control:\", results_control.params['is_control'], \"P-value:\", results_control.pvalues['is_control'])\n"
   ]
  }
 ],
 "metadata": {
  "kernelspec": {
   "display_name": "Python 3 (ipykernel)",
   "language": "python",
   "name": "python3"
  },
  "language_info": {
   "codemirror_mode": {
    "name": "ipython",
    "version": 3
   },
   "file_extension": ".py",
   "mimetype": "text/x-python",
   "name": "python",
   "nbconvert_exporter": "python",
   "pygments_lexer": "ipython3",
   "version": "3.9.5"
  }
 },
 "nbformat": 4,
 "nbformat_minor": 5
}
